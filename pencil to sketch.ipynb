{
 "cells": [
  {
   "cell_type": "code",
   "execution_count": 18,
   "metadata": {},
   "outputs": [
    {
     "data": {
      "text/plain": [
       "True"
      ]
     },
     "execution_count": 18,
     "metadata": {},
     "output_type": "execute_result"
    }
   ],
   "source": [
    "import cv2\n",
    "image = cv2.imread('N.jpg')  # loads an image from the specified file\n",
    "# convert an image from one color space to another\n",
    "grey_img = cv2.cvtColor(image, cv2.COLOR_BGR2GRAY)\n",
    "invert = cv2.bitwise_not(grey_img)  # helps in masking of the image\n",
    "# sharp edges in images are smoothed while minimizing too much blurring\n",
    "blur = cv2.GaussianBlur(invert, (21, 21), 0)\n",
    "invertedblur = cv2.bitwise_not(blur)\n",
    "sketch = cv2.divide(grey_img, invertedblur, scale=256.0)\n",
    "cv2.imwrite(\"sketch.png\", sketch)  # converted image is saved as mentioned nam"
   ]
  },
  {
   "cell_type": "code",
   "execution_count": 20,
   "metadata": {},
   "outputs": [
    {
     "ename": "NameError",
     "evalue": "name 'cv2_imshow' is not defined",
     "output_type": "error",
     "traceback": [
      "\u001b[1;31m---------------------------------------------------------------------------\u001b[0m",
      "\u001b[1;31mNameError\u001b[0m                                 Traceback (most recent call last)",
      "Input \u001b[1;32mIn [20]\u001b[0m, in \u001b[0;36m<cell line: 1>\u001b[1;34m()\u001b[0m\n\u001b[1;32m----> 1\u001b[0m \u001b[43mcv2_imshow\u001b[49m(image)\n\u001b[0;32m      2\u001b[0m cv2_imshow(invert)\n\u001b[0;32m      3\u001b[0m cv2_imshow(blur)\n",
      "\u001b[1;31mNameError\u001b[0m: name 'cv2_imshow' is not defined"
     ]
    }
   ],
   "source": [
    "cv2_imshow(image)\n",
    "cv2_imshow(invert)\n",
    "cv2_imshow(blur)\n",
    "cv2_imshow(invertedblur)\n",
    "cv2_imshow(sketch)"
   ]
  },
  {
   "cell_type": "code",
   "execution_count": null,
   "metadata": {},
   "outputs": [],
   "source": []
  }
 ],
 "metadata": {
  "kernelspec": {
   "display_name": "Python 3 (ipykernel)",
   "language": "python",
   "name": "python3"
  },
  "language_info": {
   "codemirror_mode": {
    "name": "ipython",
    "version": 3
   },
   "file_extension": ".py",
   "mimetype": "text/x-python",
   "name": "python",
   "nbconvert_exporter": "python",
   "pygments_lexer": "ipython3",
   "version": "3.10.2"
  }
 },
 "nbformat": 4,
 "nbformat_minor": 2
}
